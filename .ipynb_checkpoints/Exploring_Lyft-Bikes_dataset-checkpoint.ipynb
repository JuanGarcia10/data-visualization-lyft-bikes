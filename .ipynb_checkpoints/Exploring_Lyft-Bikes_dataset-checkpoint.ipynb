{
 "cells": [
  {
   "cell_type": "markdown",
   "metadata": {},
   "source": [
    "# Exploring the Latest Dataset from Lyft-Bikes (06/2020)\n",
    "## by Juan Garcia\n",
    "\n",
    "## Preliminary Wrangling\n",
    "\n",
    "This is a Lyft Dataset of San Francisco Bay, which has the trips information of the last month (June 2020). All trips are anonymized and include:\n",
    "- Trip Duration (seconds)\n",
    "- Start Time and Date\n",
    "- End Time and Date\n",
    "- Start Station ID\n",
    "- Start Station Name\n",
    "- Start Station Latitude\n",
    "- Start Station Longitude\n",
    "- End Station ID\n",
    "- End Station Name\n",
    "- End Station Latitude\n",
    "- End Station Longitude\n",
    "- Bike ID\n",
    "- User Type (Subscriber or Customer – “Subscriber” = Member or “Customer” = Casual)\n"
   ]
  },
  {
   "cell_type": "code",
   "execution_count": 20,
   "metadata": {},
   "outputs": [],
   "source": [
    "# import all packages and set plots to be embedded inline\n",
    "import numpy as np\n",
    "import pandas as pd\n",
    "import matplotlib.pyplot as plt\n",
    "import seaborn as sns\n",
    "import datetime\n",
    "\n",
    "%matplotlib inline"
   ]
  },
  {
   "cell_type": "code",
   "execution_count": 2,
   "metadata": {},
   "outputs": [],
   "source": [
    "df = pd.read_csv('202006-baywheels-tripdata.csv')"
   ]
  },
  {
   "cell_type": "markdown",
   "metadata": {},
   "source": [
    "### Assessing the Data"
   ]
  },
  {
   "cell_type": "code",
   "execution_count": 3,
   "metadata": {},
   "outputs": [
    {
     "name": "stdout",
     "output_type": "stream",
     "text": [
      "<class 'pandas.core.frame.DataFrame'>\n",
      "RangeIndex: 158168 entries, 0 to 158167\n",
      "Data columns (total 13 columns):\n",
      " #   Column              Non-Null Count   Dtype  \n",
      "---  ------              --------------   -----  \n",
      " 0   ride_id             158168 non-null  object \n",
      " 1   rideable_type       158168 non-null  object \n",
      " 2   started_at          158168 non-null  object \n",
      " 3   ended_at            158168 non-null  object \n",
      " 4   start_station_name  99220 non-null   object \n",
      " 5   start_station_id    99220 non-null   float64\n",
      " 6   end_station_name    97151 non-null   object \n",
      " 7   end_station_id      97151 non-null   float64\n",
      " 8   start_lat           158168 non-null  float64\n",
      " 9   start_lng           158168 non-null  float64\n",
      " 10  end_lat             157892 non-null  float64\n",
      " 11  end_lng             157892 non-null  float64\n",
      " 12  member_casual       158168 non-null  object \n",
      "dtypes: float64(6), object(7)\n",
      "memory usage: 15.7+ MB\n",
      "None\n"
     ]
    },
    {
     "data": {
      "text/html": [
       "<div>\n",
       "<style scoped>\n",
       "    .dataframe tbody tr th:only-of-type {\n",
       "        vertical-align: middle;\n",
       "    }\n",
       "\n",
       "    .dataframe tbody tr th {\n",
       "        vertical-align: top;\n",
       "    }\n",
       "\n",
       "    .dataframe thead th {\n",
       "        text-align: right;\n",
       "    }\n",
       "</style>\n",
       "<table border=\"1\" class=\"dataframe\">\n",
       "  <thead>\n",
       "    <tr style=\"text-align: right;\">\n",
       "      <th></th>\n",
       "      <th>ride_id</th>\n",
       "      <th>rideable_type</th>\n",
       "      <th>started_at</th>\n",
       "      <th>ended_at</th>\n",
       "      <th>start_station_name</th>\n",
       "      <th>start_station_id</th>\n",
       "      <th>end_station_name</th>\n",
       "      <th>end_station_id</th>\n",
       "      <th>start_lat</th>\n",
       "      <th>start_lng</th>\n",
       "      <th>end_lat</th>\n",
       "      <th>end_lng</th>\n",
       "      <th>member_casual</th>\n",
       "    </tr>\n",
       "  </thead>\n",
       "  <tbody>\n",
       "    <tr>\n",
       "      <th>0</th>\n",
       "      <td>08A4A9F7315901F3</td>\n",
       "      <td>electric_bike</td>\n",
       "      <td>2020-06-03 16:37:10</td>\n",
       "      <td>2020-06-03 16:48:28</td>\n",
       "      <td>NaN</td>\n",
       "      <td>NaN</td>\n",
       "      <td>NaN</td>\n",
       "      <td>NaN</td>\n",
       "      <td>37.770000</td>\n",
       "      <td>-122.40000</td>\n",
       "      <td>37.760000</td>\n",
       "      <td>-122.420000</td>\n",
       "      <td>casual</td>\n",
       "    </tr>\n",
       "    <tr>\n",
       "      <th>1</th>\n",
       "      <td>844F9D906468C441</td>\n",
       "      <td>electric_bike</td>\n",
       "      <td>2020-06-03 12:22:47</td>\n",
       "      <td>2020-06-03 12:44:02</td>\n",
       "      <td>NaN</td>\n",
       "      <td>NaN</td>\n",
       "      <td>NaN</td>\n",
       "      <td>NaN</td>\n",
       "      <td>37.780000</td>\n",
       "      <td>-122.49000</td>\n",
       "      <td>37.780000</td>\n",
       "      <td>-122.460000</td>\n",
       "      <td>casual</td>\n",
       "    </tr>\n",
       "    <tr>\n",
       "      <th>2</th>\n",
       "      <td>0E441BF8A86C544E</td>\n",
       "      <td>electric_bike</td>\n",
       "      <td>2020-06-02 17:37:43</td>\n",
       "      <td>2020-06-02 17:52:21</td>\n",
       "      <td>Powell St at Columbus Ave</td>\n",
       "      <td>487.0</td>\n",
       "      <td>NaN</td>\n",
       "      <td>NaN</td>\n",
       "      <td>37.800426</td>\n",
       "      <td>-122.41095</td>\n",
       "      <td>37.790000</td>\n",
       "      <td>-122.440000</td>\n",
       "      <td>casual</td>\n",
       "    </tr>\n",
       "    <tr>\n",
       "      <th>3</th>\n",
       "      <td>CAFE64864422F475</td>\n",
       "      <td>electric_bike</td>\n",
       "      <td>2020-06-02 18:13:01</td>\n",
       "      <td>2020-06-02 18:48:30</td>\n",
       "      <td>NaN</td>\n",
       "      <td>NaN</td>\n",
       "      <td>NaN</td>\n",
       "      <td>NaN</td>\n",
       "      <td>37.760000</td>\n",
       "      <td>-122.41000</td>\n",
       "      <td>37.770000</td>\n",
       "      <td>-122.430000</td>\n",
       "      <td>casual</td>\n",
       "    </tr>\n",
       "    <tr>\n",
       "      <th>4</th>\n",
       "      <td>172957A20160D568</td>\n",
       "      <td>electric_bike</td>\n",
       "      <td>2020-06-03 15:16:06</td>\n",
       "      <td>2020-06-03 16:06:10</td>\n",
       "      <td>Church St at Duboce Ave</td>\n",
       "      <td>85.0</td>\n",
       "      <td>48th Ave at Cabrillo St</td>\n",
       "      <td>521.0</td>\n",
       "      <td>37.769841</td>\n",
       "      <td>-122.42921</td>\n",
       "      <td>37.772894</td>\n",
       "      <td>-122.509079</td>\n",
       "      <td>casual</td>\n",
       "    </tr>\n",
       "  </tbody>\n",
       "</table>\n",
       "</div>"
      ],
      "text/plain": [
       "            ride_id  rideable_type           started_at             ended_at  \\\n",
       "0  08A4A9F7315901F3  electric_bike  2020-06-03 16:37:10  2020-06-03 16:48:28   \n",
       "1  844F9D906468C441  electric_bike  2020-06-03 12:22:47  2020-06-03 12:44:02   \n",
       "2  0E441BF8A86C544E  electric_bike  2020-06-02 17:37:43  2020-06-02 17:52:21   \n",
       "3  CAFE64864422F475  electric_bike  2020-06-02 18:13:01  2020-06-02 18:48:30   \n",
       "4  172957A20160D568  electric_bike  2020-06-03 15:16:06  2020-06-03 16:06:10   \n",
       "\n",
       "          start_station_name  start_station_id         end_station_name  \\\n",
       "0                        NaN               NaN                      NaN   \n",
       "1                        NaN               NaN                      NaN   \n",
       "2  Powell St at Columbus Ave             487.0                      NaN   \n",
       "3                        NaN               NaN                      NaN   \n",
       "4    Church St at Duboce Ave              85.0  48th Ave at Cabrillo St   \n",
       "\n",
       "   end_station_id  start_lat  start_lng    end_lat     end_lng member_casual  \n",
       "0             NaN  37.770000 -122.40000  37.760000 -122.420000        casual  \n",
       "1             NaN  37.780000 -122.49000  37.780000 -122.460000        casual  \n",
       "2             NaN  37.800426 -122.41095  37.790000 -122.440000        casual  \n",
       "3             NaN  37.760000 -122.41000  37.770000 -122.430000        casual  \n",
       "4           521.0  37.769841 -122.42921  37.772894 -122.509079        casual  "
      ]
     },
     "execution_count": 3,
     "metadata": {},
     "output_type": "execute_result"
    }
   ],
   "source": [
    "print(df.info())\n",
    "df.head()"
   ]
  },
  {
   "cell_type": "code",
   "execution_count": 4,
   "metadata": {},
   "outputs": [
    {
     "data": {
      "text/plain": [
       "array(['electric_bike', 'docked_bike'], dtype=object)"
      ]
     },
     "execution_count": 4,
     "metadata": {},
     "output_type": "execute_result"
    }
   ],
   "source": [
    "df.rideable_type.unique()"
   ]
  },
  {
   "cell_type": "code",
   "execution_count": 5,
   "metadata": {},
   "outputs": [
    {
     "data": {
      "text/plain": [
       "array(['casual', 'member'], dtype=object)"
      ]
     },
     "execution_count": 5,
     "metadata": {},
     "output_type": "execute_result"
    }
   ],
   "source": [
    "df.member_casual.unique()"
   ]
  },
  {
   "cell_type": "markdown",
   "metadata": {},
   "source": [
    "### Necesary changes\n",
    "\n",
    "#### Quality\n",
    "- Columns `started_at` and `ended_at` are not of type \"date time\"\n",
    "- Columns `start_station_name` and `end_station_name` are not needed since we already have the `stations ids`\n",
    "- Columns regarding longitude and latitude are not necessary for our analysis"
   ]
  },
  {
   "cell_type": "markdown",
   "metadata": {},
   "source": [
    "### Cleaning the Data"
   ]
  },
  {
   "cell_type": "code",
   "execution_count": 48,
   "metadata": {},
   "outputs": [],
   "source": [
    "# create a copy of the dataset\n",
    "df_clean = df.copy()"
   ]
  },
  {
   "cell_type": "markdown",
   "metadata": {},
   "source": [
    "Change the columns `started_at` and `ended_at` to the typ datetime using `pd.to_datetime()` command"
   ]
  },
  {
   "cell_type": "code",
   "execution_count": 49,
   "metadata": {},
   "outputs": [],
   "source": [
    "df_clean.started_at = pd.to_datetime(df_clean.started_at)"
   ]
  },
  {
   "cell_type": "code",
   "execution_count": 50,
   "metadata": {},
   "outputs": [],
   "source": [
    "df_clean.ended_at = pd.to_datetime(df_clean.ended_at)"
   ]
  },
  {
   "cell_type": "code",
   "execution_count": 51,
   "metadata": {},
   "outputs": [
    {
     "data": {
      "text/plain": [
       "ride_id                       object\n",
       "rideable_type                 object\n",
       "started_at            datetime64[ns]\n",
       "ended_at              datetime64[ns]\n",
       "start_station_name            object\n",
       "start_station_id             float64\n",
       "end_station_name              object\n",
       "end_station_id               float64\n",
       "start_lat                    float64\n",
       "start_lng                    float64\n",
       "end_lat                      float64\n",
       "end_lng                      float64\n",
       "member_casual                 object\n",
       "dtype: object"
      ]
     },
     "execution_count": 51,
     "metadata": {},
     "output_type": "execute_result"
    }
   ],
   "source": [
    "# test that this worked\n",
    "df_clean.dtypes"
   ]
  },
  {
   "cell_type": "markdown",
   "metadata": {},
   "source": [
    "Drop all unnecesary columns of the dataset: start_station_name, end_station_name, start_lat, end_lat, start_lng, end_lng"
   ]
  },
  {
   "cell_type": "code",
   "execution_count": 52,
   "metadata": {},
   "outputs": [],
   "source": [
    "# drop the columns\n",
    "df_clean.drop(columns=['start_station_name', 'end_station_name', 'start_lat', 'end_lat', 'start_lng', 'end_lng'],\n",
    "              inplace=True)"
   ]
  },
  {
   "cell_type": "code",
   "execution_count": 67,
   "metadata": {},
   "outputs": [
    {
     "name": "stdout",
     "output_type": "stream",
     "text": [
      "<class 'pandas.core.frame.DataFrame'>\n",
      "Int64Index: 156550 entries, 0 to 158167\n",
      "Data columns (total 8 columns):\n",
      " #   Column            Non-Null Count   Dtype         \n",
      "---  ------            --------------   -----         \n",
      " 0   ride_id           156550 non-null  object        \n",
      " 1   rideable_type     156550 non-null  object        \n",
      " 2   started_at        156550 non-null  datetime64[ns]\n",
      " 3   ended_at          156550 non-null  datetime64[ns]\n",
      " 4   start_station_id  97782 non-null   float64       \n",
      " 5   end_station_id    96017 non-null   float64       \n",
      " 6   member_casual     156550 non-null  object        \n",
      " 7   ride_dur          156550 non-null  float64       \n",
      "dtypes: datetime64[ns](2), float64(3), object(3)\n",
      "memory usage: 10.7+ MB\n"
     ]
    }
   ],
   "source": [
    "# Test columns where successfully dropped\n",
    "df_clean.info()"
   ]
  },
  {
   "cell_type": "markdown",
   "metadata": {},
   "source": [
    "Feature Engineering:\n",
    "- create a feature that reflects the duration of a ride\n",
    "- create a feature that shows the weekday the bike was rented\n",
    "- create a feature that shows the time the bike was rented"
   ]
  },
  {
   "cell_type": "code",
   "execution_count": 54,
   "metadata": {},
   "outputs": [
    {
     "data": {
      "text/plain": [
       "count                    158168\n",
       "mean     0 days 00:26:56.991003\n",
       "std      0 days 05:08:18.265074\n",
       "min           -1 days +23:45:57\n",
       "25%             0 days 00:07:22\n",
       "50%             0 days 00:13:15\n",
       "75%             0 days 00:23:21\n",
       "max            25 days 20:33:06\n",
       "Name: ride_dur, dtype: object"
      ]
     },
     "execution_count": 54,
     "metadata": {},
     "output_type": "execute_result"
    }
   ],
   "source": [
    "df_clean['ride_dur'] = df_clean.ended_at - df_clean.started_at\n",
    "df_clean['ride_dur'].describe()"
   ]
  },
  {
   "cell_type": "markdown",
   "metadata": {},
   "source": [
    "No ride should be negative, that is why we will drop all the rows containing negative times. Furthermore, it looks like there are some outliers. For this we will look at the distribution"
   ]
  },
  {
   "cell_type": "code",
   "execution_count": 55,
   "metadata": {},
   "outputs": [],
   "source": [
    "# get rid of all the negative values\n",
    "df_clean = df_clean.loc[df_clean.ride_dur >= '0']"
   ]
  },
  {
   "cell_type": "code",
   "execution_count": 56,
   "metadata": {},
   "outputs": [],
   "source": [
    "# transform the date time factor to minutes as a float\n",
    "df_clean.ride_dur = (df_clean.ride_dur / np.timedelta64(1, 's'))/60"
   ]
  },
  {
   "cell_type": "code",
   "execution_count": 57,
   "metadata": {},
   "outputs": [
    {
     "data": {
      "text/plain": [
       "count    158133.000000\n",
       "mean         26.956052\n",
       "std         308.338250\n",
       "min           0.000000\n",
       "25%           7.366667\n",
       "50%          13.250000\n",
       "75%          23.350000\n",
       "max       37233.100000\n",
       "Name: ride_dur, dtype: float64"
      ]
     },
     "execution_count": 57,
     "metadata": {},
     "output_type": "execute_result"
    }
   ],
   "source": [
    "# get the summary statistics\n",
    "df_clean.ride_dur.describe()"
   ]
  },
  {
   "cell_type": "code",
   "execution_count": 58,
   "metadata": {},
   "outputs": [
    {
     "data": {
      "text/plain": [
       "(0.0, 5e-06)"
      ]
     },
     "execution_count": 58,
     "metadata": {},
     "output_type": "execute_result"
    },
    {
     "data": {
      "image/png": "[encoded data removed]",
      "text/plain": [
       "<Figure size 432x288 with 1 Axes>"
      ]
     },
     "metadata": {
      "needs_background": "light"
     },
     "output_type": "display_data"
    }
   ],
   "source": [
    "# take a look at the distribution\n",
    "sns.distplot(df_clean.ride_dur, bins=20)\n",
    "plt.ylim((0,0.000005))"
   ]
  },
  {
   "cell_type": "code",
   "execution_count": 59,
   "metadata": {},
   "outputs": [
    {
     "data": {
      "text/plain": [
       "126.35"
      ]
     },
     "execution_count": 59,
     "metadata": {},
     "output_type": "execute_result"
    }
   ],
   "source": [
    "# Drop all outliers: identify the 99 percentile and drop all values above\n",
    "np.percentile(df_clean.ride_dur, 99)"
   ]
  },
  {
   "cell_type": "code",
   "execution_count": 60,
   "metadata": {},
   "outputs": [],
   "source": [
    "# Drop all values above the 99 percentile\n",
    "df_clean = df_clean.loc[df_clean.ride_dur < 126.35]"
   ]
  },
  {
   "cell_type": "code",
   "execution_count": 63,
   "metadata": {},
   "outputs": [
    {
     "data": {
      "text/plain": [
       "Text(0.5, 0, 'Ride Duration')"
      ]
     },
     "execution_count": 63,
     "metadata": {},
     "output_type": "execute_result"
    },
    {
     "data": {
      "image/png": "[encoded data removed]",
      "text/plain": [
       "<Figure size 432x288 with 1 Axes>"
      ]
     },
     "metadata": {
      "needs_background": "light"
     },
     "output_type": "display_data"
    }
   ],
   "source": [
    "# Test: get a view of the distribution of the revised dataset\n",
    "sns.distplot(df_clean.ride_dur, bins=30)\n",
    "plt.xlabel('Ride Duration')"
   ]
  },
  {
   "cell_type": "markdown",
   "metadata": {},
   "source": [
    "Create a new feature that shows the day of the week the bike was rented"
   ]
  },
  {
   "cell_type": "code",
   "execution_count": 100,
   "metadata": {},
   "outputs": [],
   "source": [
    "# create a feature that shows the weekday the bike was rented\n",
    "df_clean['week_day'] = df_clean['started_at'].dt.dayofweek"
   ]
  },
  {
   "cell_type": "code",
   "execution_count": 101,
   "metadata": {},
   "outputs": [
    {
     "data": {
      "text/plain": [
       "5    25739\n",
       "1    23670\n",
       "6    22498\n",
       "2    21999\n",
       "0    21937\n",
       "4    21456\n",
       "3    19251\n",
       "Name: week_day, dtype: int64"
      ]
     },
     "execution_count": 101,
     "metadata": {},
     "output_type": "execute_result"
    }
   ],
   "source": [
    "# test the new created feature\n",
    "df_clean['week_day'].value_counts()"
   ]
  },
  {
   "cell_type": "code",
   "execution_count": 91,
   "metadata": {},
   "outputs": [],
   "source": [
    "# Create a dictionary for the days of the week\n",
    "days_dict = {0: 'Monday', \n",
    "            1: 'Tuesday',\n",
    "            2: 'Wednesday',\n",
    "            3: 'Thursday',\n",
    "            4: 'Friday',\n",
    "            5: 'Saturday',\n",
    "            6: 'Sunday'}"
   ]
  },
  {
   "cell_type": "code",
   "execution_count": 102,
   "metadata": {},
   "outputs": [],
   "source": [
    "# replace the numbers with categories\n",
    "df_clean['week_day'].replace(days_dict, inplace=True) "
   ]
  },
  {
   "cell_type": "code",
   "execution_count": 103,
   "metadata": {},
   "outputs": [
    {
     "data": {
      "text/html": [
       "<div>\n",
       "<style scoped>\n",
       "    .dataframe tbody tr th:only-of-type {\n",
       "        vertical-align: middle;\n",
       "    }\n",
       "\n",
       "    .dataframe tbody tr th {\n",
       "        vertical-align: top;\n",
       "    }\n",
       "\n",
       "    .dataframe thead th {\n",
       "        text-align: right;\n",
       "    }\n",
       "</style>\n",
       "<table border=\"1\" class=\"dataframe\">\n",
       "  <thead>\n",
       "    <tr style=\"text-align: right;\">\n",
       "      <th></th>\n",
       "      <th>ride_id</th>\n",
       "      <th>rideable_type</th>\n",
       "      <th>started_at</th>\n",
       "      <th>ended_at</th>\n",
       "      <th>start_station_id</th>\n",
       "      <th>end_station_id</th>\n",
       "      <th>member_casual</th>\n",
       "      <th>ride_dur</th>\n",
       "      <th>week_day</th>\n",
       "      <th>hour_of_day</th>\n",
       "    </tr>\n",
       "  </thead>\n",
       "  <tbody>\n",
       "    <tr>\n",
       "      <th>137915</th>\n",
       "      <td>F4C6453ABA01DD33</td>\n",
       "      <td>electric_bike</td>\n",
       "      <td>2020-06-11 13:53:03</td>\n",
       "      <td>2020-06-11 14:14:51</td>\n",
       "      <td>387.0</td>\n",
       "      <td>482.0</td>\n",
       "      <td>member</td>\n",
       "      <td>21.800000</td>\n",
       "      <td>Thursday</td>\n",
       "      <td>13</td>\n",
       "    </tr>\n",
       "    <tr>\n",
       "      <th>73044</th>\n",
       "      <td>70F5181FF9BC5DE4</td>\n",
       "      <td>docked_bike</td>\n",
       "      <td>2020-06-14 16:57:26</td>\n",
       "      <td>2020-06-14 17:44:37</td>\n",
       "      <td>458.0</td>\n",
       "      <td>116.0</td>\n",
       "      <td>member</td>\n",
       "      <td>47.183333</td>\n",
       "      <td>Sunday</td>\n",
       "      <td>16</td>\n",
       "    </tr>\n",
       "    <tr>\n",
       "      <th>19239</th>\n",
       "      <td>A216C1E6C6CEC644</td>\n",
       "      <td>electric_bike</td>\n",
       "      <td>2020-06-03 13:22:06</td>\n",
       "      <td>2020-06-03 13:36:27</td>\n",
       "      <td>77.0</td>\n",
       "      <td>NaN</td>\n",
       "      <td>casual</td>\n",
       "      <td>14.350000</td>\n",
       "      <td>Wednesday</td>\n",
       "      <td>13</td>\n",
       "    </tr>\n",
       "    <tr>\n",
       "      <th>51273</th>\n",
       "      <td>F4BE3611E552571A</td>\n",
       "      <td>electric_bike</td>\n",
       "      <td>2020-06-21 13:50:40</td>\n",
       "      <td>2020-06-21 14:05:04</td>\n",
       "      <td>516.0</td>\n",
       "      <td>486.0</td>\n",
       "      <td>casual</td>\n",
       "      <td>14.400000</td>\n",
       "      <td>Sunday</td>\n",
       "      <td>13</td>\n",
       "    </tr>\n",
       "    <tr>\n",
       "      <th>112059</th>\n",
       "      <td>E72C802BFB0A1FAD</td>\n",
       "      <td>docked_bike</td>\n",
       "      <td>2020-06-27 10:43:49</td>\n",
       "      <td>2020-06-27 10:53:12</td>\n",
       "      <td>186.0</td>\n",
       "      <td>197.0</td>\n",
       "      <td>casual</td>\n",
       "      <td>9.383333</td>\n",
       "      <td>Saturday</td>\n",
       "      <td>10</td>\n",
       "    </tr>\n",
       "  </tbody>\n",
       "</table>\n",
       "</div>"
      ],
      "text/plain": [
       "                 ride_id  rideable_type          started_at  \\\n",
       "137915  F4C6453ABA01DD33  electric_bike 2020-06-11 13:53:03   \n",
       "73044   70F5181FF9BC5DE4    docked_bike 2020-06-14 16:57:26   \n",
       "19239   A216C1E6C6CEC644  electric_bike 2020-06-03 13:22:06   \n",
       "51273   F4BE3611E552571A  electric_bike 2020-06-21 13:50:40   \n",
       "112059  E72C802BFB0A1FAD    docked_bike 2020-06-27 10:43:49   \n",
       "\n",
       "                  ended_at  start_station_id  end_station_id member_casual  \\\n",
       "137915 2020-06-11 14:14:51             387.0           482.0        member   \n",
       "73044  2020-06-14 17:44:37             458.0           116.0        member   \n",
       "19239  2020-06-03 13:36:27              77.0             NaN        casual   \n",
       "51273  2020-06-21 14:05:04             516.0           486.0        casual   \n",
       "112059 2020-06-27 10:53:12             186.0           197.0        casual   \n",
       "\n",
       "         ride_dur   week_day  hour_of_day  \n",
       "137915  21.800000   Thursday           13  \n",
       "73044   47.183333     Sunday           16  \n",
       "19239   14.350000  Wednesday           13  \n",
       "51273   14.400000     Sunday           13  \n",
       "112059   9.383333   Saturday           10  "
      ]
     },
     "execution_count": 103,
     "metadata": {},
     "output_type": "execute_result"
    }
   ],
   "source": [
    "# test new feature worked\n",
    "df_clean.sample(5)"
   ]
  },
  {
   "cell_type": "code",
   "execution_count": 104,
   "metadata": {},
   "outputs": [],
   "source": [
    "# change data type to category since the days follow an order\n",
    "day_order = ['Monday', \n",
    "             'Tuesday',\n",
    "             'Wednesday',\n",
    "             'Thursday',\n",
    "             'Friday',\n",
    "             'Saturday',\n",
    "             'Sunday']\n",
    "ordered_day = pd.api.types.CategoricalDtype(ordered=True, categories=day_order)\n",
    "df_clean['week_day'] = df_clean['week_day'].astype(ordered_day)"
   ]
  },
  {
   "cell_type": "code",
   "execution_count": 105,
   "metadata": {},
   "outputs": [
    {
     "data": {
      "text/plain": [
       "CategoricalDtype(categories=['Monday', 'Tuesday', 'Wednesday', 'Thursday', 'Friday',\n",
       "                  'Saturday', 'Sunday'],\n",
       "                 ordered=True)"
      ]
     },
     "execution_count": 105,
     "metadata": {},
     "output_type": "execute_result"
    }
   ],
   "source": [
    "# test \n",
    "df_clean.week_day.dtypes"
   ]
  },
  {
   "cell_type": "markdown",
   "metadata": {},
   "source": [
    "The new feature `week_day` is ready for the analysis"
   ]
  },
  {
   "cell_type": "markdown",
   "metadata": {},
   "source": [
    "Create a new feature that shows the hour of the day (24 hours) a bike is rented"
   ]
  },
  {
   "cell_type": "code",
   "execution_count": 126,
   "metadata": {},
   "outputs": [],
   "source": [
    "# create the new feature with the hour of the day a bike is rented\n",
    "df_clean['hour_of_day'] = df_clean.started_at.dt.hour"
   ]
  },
  {
   "cell_type": "code",
   "execution_count": 127,
   "metadata": {},
   "outputs": [
    {
     "data": {
      "text/plain": [
       "0      1115\n",
       "1       737\n",
       "2       607\n",
       "3       503\n",
       "4       548\n",
       "5       920\n",
       "6      2262\n",
       "7      4275\n",
       "8      5438\n",
       "9      6052\n",
       "10     6920\n",
       "11     8704\n",
       "12    10722\n",
       "13    11450\n",
       "14    12403\n",
       "15    13022\n",
       "16    13873\n",
       "17    15822\n",
       "18    14535\n",
       "19    11622\n",
       "20     6957\n",
       "21     3759\n",
       "22     2606\n",
       "23     1698\n",
       "Name: hour_of_day, dtype: int64"
      ]
     },
     "execution_count": 127,
     "metadata": {},
     "output_type": "execute_result"
    }
   ],
   "source": [
    "# test the new feature was created successfully\n",
    "df_clean.hour_of_day.value_counts().sort_index()"
   ]
  },
  {
   "cell_type": "code",
   "execution_count": 123,
   "metadata": {},
   "outputs": [
    {
     "data": {
      "text/plain": [
       "Int64Index([ 0,  1,  2,  3,  4,  5,  6,  7,  8,  9, 10, 11, 12, 13, 14, 15, 16,\n",
       "            17, 18, 19, 20, 21, 22, 23],\n",
       "           dtype='int64')"
      ]
     },
     "execution_count": 123,
     "metadata": {},
     "output_type": "execute_result"
    }
   ],
   "source": [
    "# make a category variable for the rest the analysis\n",
    "df_clean.hour_of_day.value_counts().sort_index().index"
   ]
  },
  {
   "cell_type": "code",
   "execution_count": 129,
   "metadata": {},
   "outputs": [],
   "source": [
    "order_hour = [0,  1,  2,  3,  4,  5,  6,  7,  8,  9, 10, 11, 12, 13, 14, 15, 16,\n",
    "            17, 18, 19, 20, 21, 22, 23]\n",
    "hour_ordered = pd.api.types.CategoricalDtype(ordered=True, categories=order_hour)\n",
    "df_clean.hour_of_day = df_clean.hour_of_day.astype(hour_ordered)"
   ]
  },
  {
   "cell_type": "code",
   "execution_count": 130,
   "metadata": {},
   "outputs": [
    {
     "data": {
      "text/html": [
       "<div>\n",
       "<style scoped>\n",
       "    .dataframe tbody tr th:only-of-type {\n",
       "        vertical-align: middle;\n",
       "    }\n",
       "\n",
       "    .dataframe tbody tr th {\n",
       "        vertical-align: top;\n",
       "    }\n",
       "\n",
       "    .dataframe thead th {\n",
       "        text-align: right;\n",
       "    }\n",
       "</style>\n",
       "<table border=\"1\" class=\"dataframe\">\n",
       "  <thead>\n",
       "    <tr style=\"text-align: right;\">\n",
       "      <th></th>\n",
       "      <th>ride_id</th>\n",
       "      <th>rideable_type</th>\n",
       "      <th>started_at</th>\n",
       "      <th>ended_at</th>\n",
       "      <th>start_station_id</th>\n",
       "      <th>end_station_id</th>\n",
       "      <th>member_casual</th>\n",
       "      <th>ride_dur</th>\n",
       "      <th>week_day</th>\n",
       "      <th>hour_of_day</th>\n",
       "    </tr>\n",
       "  </thead>\n",
       "  <tbody>\n",
       "    <tr>\n",
       "      <th>120551</th>\n",
       "      <td>9F30B651BEBA244E</td>\n",
       "      <td>docked_bike</td>\n",
       "      <td>2020-06-13 14:39:59</td>\n",
       "      <td>2020-06-13 14:45:27</td>\n",
       "      <td>370.0</td>\n",
       "      <td>3.0</td>\n",
       "      <td>member</td>\n",
       "      <td>5.466667</td>\n",
       "      <td>Saturday</td>\n",
       "      <td>14</td>\n",
       "    </tr>\n",
       "    <tr>\n",
       "      <th>14241</th>\n",
       "      <td>B121C28D1D62380F</td>\n",
       "      <td>electric_bike</td>\n",
       "      <td>2020-06-25 13:25:23</td>\n",
       "      <td>2020-06-25 13:37:19</td>\n",
       "      <td>61.0</td>\n",
       "      <td>120.0</td>\n",
       "      <td>casual</td>\n",
       "      <td>11.933333</td>\n",
       "      <td>Thursday</td>\n",
       "      <td>13</td>\n",
       "    </tr>\n",
       "    <tr>\n",
       "      <th>3139</th>\n",
       "      <td>F0E4675848FE9D54</td>\n",
       "      <td>electric_bike</td>\n",
       "      <td>2020-06-13 09:59:05</td>\n",
       "      <td>2020-06-13 10:31:12</td>\n",
       "      <td>104.0</td>\n",
       "      <td>377.0</td>\n",
       "      <td>casual</td>\n",
       "      <td>32.116667</td>\n",
       "      <td>Saturday</td>\n",
       "      <td>9</td>\n",
       "    </tr>\n",
       "    <tr>\n",
       "      <th>94648</th>\n",
       "      <td>050CB072D5EE7FD8</td>\n",
       "      <td>docked_bike</td>\n",
       "      <td>2020-06-18 18:04:00</td>\n",
       "      <td>2020-06-18 18:30:41</td>\n",
       "      <td>294.0</td>\n",
       "      <td>301.0</td>\n",
       "      <td>casual</td>\n",
       "      <td>26.683333</td>\n",
       "      <td>Thursday</td>\n",
       "      <td>18</td>\n",
       "    </tr>\n",
       "    <tr>\n",
       "      <th>145249</th>\n",
       "      <td>4F4F366FE199FA6C</td>\n",
       "      <td>docked_bike</td>\n",
       "      <td>2020-06-01 17:17:48</td>\n",
       "      <td>2020-06-01 17:38:23</td>\n",
       "      <td>138.0</td>\n",
       "      <td>138.0</td>\n",
       "      <td>member</td>\n",
       "      <td>20.583333</td>\n",
       "      <td>Monday</td>\n",
       "      <td>17</td>\n",
       "    </tr>\n",
       "  </tbody>\n",
       "</table>\n",
       "</div>"
      ],
      "text/plain": [
       "                 ride_id  rideable_type          started_at  \\\n",
       "120551  9F30B651BEBA244E    docked_bike 2020-06-13 14:39:59   \n",
       "14241   B121C28D1D62380F  electric_bike 2020-06-25 13:25:23   \n",
       "3139    F0E4675848FE9D54  electric_bike 2020-06-13 09:59:05   \n",
       "94648   050CB072D5EE7FD8    docked_bike 2020-06-18 18:04:00   \n",
       "145249  4F4F366FE199FA6C    docked_bike 2020-06-01 17:17:48   \n",
       "\n",
       "                  ended_at  start_station_id  end_station_id member_casual  \\\n",
       "120551 2020-06-13 14:45:27             370.0             3.0        member   \n",
       "14241  2020-06-25 13:37:19              61.0           120.0        casual   \n",
       "3139   2020-06-13 10:31:12             104.0           377.0        casual   \n",
       "94648  2020-06-18 18:30:41             294.0           301.0        casual   \n",
       "145249 2020-06-01 17:38:23             138.0           138.0        member   \n",
       "\n",
       "         ride_dur  week_day hour_of_day  \n",
       "120551   5.466667  Saturday          14  \n",
       "14241   11.933333  Thursday          13  \n",
       "3139    32.116667  Saturday           9  \n",
       "94648   26.683333  Thursday          18  \n",
       "145249  20.583333    Monday          17  "
      ]
     },
     "execution_count": 130,
     "metadata": {},
     "output_type": "execute_result"
    }
   ],
   "source": [
    "# test new feater was created successfully\n",
    "df_clean.sample(5)"
   ]
  },
  {
   "cell_type": "markdown",
   "metadata": {},
   "source": [
    "New variable hour_of_day was created successfully and is ready to be analyzed"
   ]
  },
  {
   "cell_type": "markdown",
   "metadata": {},
   "source": [
    "### What is/are the main feature(s) of interest in your dataset?\n",
    "\n",
    "The main features of interest are those who help explain the variation in the *duration of the ride* (`ride_dur`). (To be explored) a possible second dependent variable could be the *type of bike* (`rideble_type`), also figuring out what does predict the choice"
   ]
  },
  {
   "cell_type": "markdown",
   "metadata": {},
   "source": [
    "## Univariate Exploration"
   ]
  },
  {
   "cell_type": "code",
   "execution_count": 66,
   "metadata": {},
   "outputs": [
    {
     "data": {
      "image/png": "[encoded data removed]",
      "text/plain": [
       "<Figure size 432x288 with 1 Axes>"
      ]
     },
     "metadata": {
      "needs_background": "light"
     },
     "output_type": "display_data"
    }
   ],
   "source": [
    "# take a deeper look at the distribution of the ride_dur variable\n",
    "bins_dur_size = 3 # bins the size of 5 min\n",
    "bins_dur = np.arange(0, df_clean.ride_dur.max()+bins_dur_size, bins_dur_size)\n",
    "\n",
    "plt.hist(data=df_clean, x='ride_dur', bins=bins_dur)\n",
    "plt.xlabel('Ride Duration (min)')\n",
    "plt.title('Ride Duration Distribution in Minutes');"
   ]
  },
  {
   "cell_type": "markdown",
   "metadata": {},
   "source": [
    "The distribution is right skewed. Be careful when comparing to other variables since most of the observations are between 0 and 30 min"
   ]
  },
  {
   "cell_type": "code",
   "execution_count": 117,
   "metadata": {},
   "outputs": [
    {
     "data": {
      "image/png": "[encoded data removed]",
      "text/plain": [
       "<Figure size 432x288 with 1 Axes>"
      ]
     },
     "metadata": {
      "needs_background": "light"
     },
     "output_type": "display_data"
    }
   ],
   "source": [
    "# take a look to the distribution of days of the week\n",
    "base_color_day = sns.color_palette()[2]\n",
    "\n",
    "sns.countplot(data=df_clean, x='week_day', color=base_color_day)\n",
    "plt.xticks(rotation=30)\n",
    "plt.xlabel('Day of the Week');"
   ]
  },
  {
   "cell_type": "markdown",
   "metadata": {},
   "source": [
    "There is a nice variation in the renting day. We see a peak on saturday"
   ]
  },
  {
   "cell_type": "code",
   "execution_count": 146,
   "metadata": {},
   "outputs": [
    {
     "data": {
      "image/png": "[encoded data removed]",
      "text/plain": [
       "<Figure size 432x288 with 1 Axes>"
      ]
     },
     "metadata": {
      "needs_background": "light"
     },
     "output_type": "display_data"
    }
   ],
   "source": [
    "# take a look to the hour\n",
    "base_color_hour = sns.color_palette()[4]\n",
    "\n",
    "sns.countplot(data=df_clean, x='hour_of_day', color=base_color_hour);"
   ]
  },
  {
   "cell_type": "markdown",
   "metadata": {},
   "source": [
    "we see a somewhat left skewed distribution with its peak at 17 o'clock"
   ]
  },
  {
   "cell_type": "code",
   "execution_count": 68,
   "metadata": {},
   "outputs": [
    {
     "data": {
      "text/plain": [
       "Text(0.5, 0, 'Customer type')"
      ]
     },
     "execution_count": 68,
     "metadata": {},
     "output_type": "execute_result"
    },
    {
     "data": {
      "image/png": "[encoded data removed]",
      "text/plain": [
       "<Figure size 1080x360 with 2 Axes>"
      ]
     },
     "metadata": {
      "needs_background": "light"
     },
     "output_type": "display_data"
    }
   ],
   "source": [
    "# take a look at the distribution of the type of the bike and the customer\n",
    "plt.figure(figsize=[15,5])\n",
    "\n",
    "# choose colors for the two features\n",
    "base_color_btype = sns.color_palette()[0]\n",
    "base_color_ctype = sns.color_palette()[1]\n",
    "\n",
    "# plot the bars\n",
    "plt.subplot(1,2,1)\n",
    "sns.countplot(data=df_clean, x='rideable_type', color=base_color_btype)\n",
    "plt.xlabel('Bike type')\n",
    "\n",
    "plt.subplot(1,2,2)\n",
    "sns.countplot(data=df_clean, x='member_casual', color=base_color_ctype)\n",
    "plt.xlabel('Customer type')"
   ]
  },
  {
   "cell_type": "markdown",
   "metadata": {},
   "source": [
    "given this results I expect the customer type to have an explanation power on the ride duration"
   ]
  },
  {
   "cell_type": "markdown",
   "metadata": {},
   "source": [
    "## Bivariate Exploration"
   ]
  },
  {
   "cell_type": "code",
   "execution_count": 137,
   "metadata": {},
   "outputs": [
    {
     "data": {
      "text/plain": [
       "Text(0, 0.5, 'Ride duration (min)')"
      ]
     },
     "execution_count": 137,
     "metadata": {},
     "output_type": "execute_result"
    },
    {
     "data": {
      "image/png": "[encoded data removed]",
      "text/plain": [
       "<Figure size 1080x360 with 1 Axes>"
      ]
     },
     "metadata": {
      "needs_background": "light"
     },
     "output_type": "display_data"
    }
   ],
   "source": [
    "# violin plot between ride duration and day of week\n",
    "plt.figure(figsize=[15, 5])\n",
    "sns.violinplot(data=df_clean, x='week_day', y='ride_dur', inner='quartile', color=base_color_day)\n",
    "plt.xlabel('Day of week')\n",
    "plt.ylabel('Ride duration (min)')"
   ]
  },
  {
   "cell_type": "markdown",
   "metadata": {},
   "source": [
    "During the weekdays (mon-fri) is the distribution very similar with very similar means. Only during the weekends (sat-sun) we see an increase in the mean"
   ]
  },
  {
   "cell_type": "code",
   "execution_count": 140,
   "metadata": {},
   "outputs": [
    {
     "data": {
      "text/plain": [
       "Text(0, 0.5, 'Ride duration (min)')"
      ]
     },
     "execution_count": 140,
     "metadata": {},
     "output_type": "execute_result"
    },
    {
     "data": {
      "image/png": "[encoded data removed]",
      "text/plain": [
       "<Figure size 1080x360 with 1 Axes>"
      ]
     },
     "metadata": {
      "needs_background": "light"
     },
     "output_type": "display_data"
    }
   ],
   "source": [
    "# boxplots between ride duration and day of week\n",
    "plt.figure(figsize=[15, 5])\n",
    "sns.boxplot(data=df_clean, x='week_day', y='ride_dur', color=base_color_day)\n",
    "\n",
    "# zoom in\n",
    "plt.ylim((0,60))\n",
    "plt.xlabel('Day of week')\n",
    "plt.ylabel('Ride duration (min)');"
   ]
  },
  {
   "cell_type": "markdown",
   "metadata": {},
   "source": [
    "the distribution of the ride duration for each day of the week returns pretty much the original distribtuion of the ride duration. We only see minimal change during weekends. Possibly we need to create a new feature `weekday-weekend`."
   ]
  },
  {
   "cell_type": "code",
   "execution_count": 147,
   "metadata": {},
   "outputs": [
    {
     "data": {
      "image/png": "[encoded data removed]",
      "text/plain": [
       "<Figure size 1080x360 with 1 Axes>"
      ]
     },
     "metadata": {
      "needs_background": "light"
     },
     "output_type": "display_data"
    }
   ],
   "source": [
    "# boxplots between ride duration and the hour of the day\n",
    "plt.figure(figsize=[15, 5])\n",
    "sns.boxplot(data=df_clean, x='hour_of_day', y='ride_dur', color=base_color_hour)\n",
    "\n",
    "# zoom in\n",
    "plt.ylim((0,60))\n",
    "plt.xlabel('Hour of day')\n",
    "plt.ylabel('Ride duration (min)');"
   ]
  },
  {
   "cell_type": "markdown",
   "metadata": {},
   "source": [
    "the behavior of the ride duration seems to be pretty close to the behavior of the distribution of the hour of the day (when the bike is rented). I want to see the average ride duration besides de median"
   ]
  },
  {
   "cell_type": "code",
   "execution_count": 150,
   "metadata": {},
   "outputs": [
    {
     "data": {
      "text/plain": [
       "Text(0.5, 0, 'hour of the day')"
      ]
     },
     "execution_count": 150,
     "metadata": {},
     "output_type": "execute_result"
    },
    {
     "data": {
      "image/png": "[encoded data removed]",
      "text/plain": [
       "<Figure size 1080x360 with 1 Axes>"
      ]
     },
     "metadata": {
      "needs_background": "light"
     },
     "output_type": "display_data"
    }
   ],
   "source": [
    "# Average ride duration and the hour of the day\n",
    "plt.figure(figsize=[15, 5])\n",
    "sns.barplot(data=df_clean, x='hour_of_day', y='ride_dur', color=base_color_hour, errwidth=0)\n",
    "plt.ylabel('Average ride duration (min)')\n",
    "plt.xlabel('hour of the day')"
   ]
  },
  {
   "cell_type": "markdown",
   "metadata": {},
   "source": [
    "we see here a different behavior in the variations compare to the number of bikes that are rented at each hour of the day"
   ]
  },
  {
   "cell_type": "code",
   "execution_count": 153,
   "metadata": {},
   "outputs": [
    {
     "data": {
      "text/plain": [
       "Text(0, 0.5, 'Average ride duration (min)')"
      ]
     },
     "execution_count": 153,
     "metadata": {},
     "output_type": "execute_result"
    },
    {
     "data": {
      "image/png": "[encoded data removed]",
      "text/plain": [
       "<Figure size 864x360 with 2 Axes>"
      ]
     },
     "metadata": {
      "needs_background": "light"
     },
     "output_type": "display_data"
    }
   ],
   "source": [
    "# check the relation between ride duration and the customer type\n",
    "plt.figure(figsize=[12,5])\n",
    "\n",
    "plt.subplot(1,2,1)\n",
    "sns.boxplot(data=df_clean, x='member_casual', y='ride_dur', color=base_color_ctype)\n",
    "# zoom in\n",
    "plt.ylim((0,60))\n",
    "plt.xlabel('Cutormer Type')\n",
    "plt.ylabel('Ride duration (min)')\n",
    "\n",
    "plt.subplot(1,2,2)\n",
    "sns.barplot(data=df_clean, x='member_casual', y='ride_dur', color=base_color_ctype)\n",
    "# zoom in\n",
    "plt.ylim((0,60))\n",
    "plt.xlabel('Cutormer Type')\n",
    "plt.ylabel('Average ride duration (min)')"
   ]
  },
  {
   "cell_type": "markdown",
   "metadata": {},
   "source": [
    "It seems like the type of customer explain some of the variation in the ride duration. Nuw let's see how the independent variables interact with each other"
   ]
  },
  {
   "cell_type": "code",
   "execution_count": 165,
   "metadata": {},
   "outputs": [
    {
     "data": {
      "text/plain": [
       "<matplotlib.axes._subplots.AxesSubplot at 0x19b05bc7d88>"
      ]
     },
     "execution_count": 165,
     "metadata": {},
     "output_type": "execute_result"
    },
    {
     "data": {
      "image/png": "[encoded data removed]",
      "text/plain": [
       "<Figure size 1080x1080 with 2 Axes>"
      ]
     },
     "metadata": {
      "needs_background": "light"
     },
     "output_type": "display_data"
    }
   ],
   "source": [
    "# define the variables to compare\n",
    "plt.figure(figsize=[15,15])\n",
    "\n",
    "plt.subplot(2,2,1)\n",
    "sns.countplot(data=df_clean, x='week_day', hue='member_casual')\n",
    "\n",
    "plt.subplot(2,2,2)\n",
    "sns.countplot(data=df_clean, x='hour_of_day', hue='member_casual')\n"
   ]
  },
  {
   "cell_type": "markdown",
   "metadata": {},
   "source": [
    "No big surprise as there are more casual customers than members. The multivariate approach is going to be much more interesting"
   ]
  },
  {
   "cell_type": "markdown",
   "metadata": {},
   "source": [
    "### Talk about some of the relationships you observed in this part of the investigation. How did the feature(s) of interest vary with other features in the dataset?\n",
    "\n",
    "> Your answer here!\n",
    "\n",
    "### Did you observe any interesting relationships between the other features (not the main feature(s) of interest)?\n",
    "\n",
    "> Your answer here!"
   ]
  },
  {
   "cell_type": "markdown",
   "metadata": {},
   "source": [
    "## Multivariate Exploration\n",
    "\n",
    "> Create plots of three or more variables to investigate your data even\n",
    "further. Make sure that your investigations are justified, and follow from\n",
    "your work in the previous sections."
   ]
  },
  {
   "cell_type": "code",
   "execution_count": null,
   "metadata": {},
   "outputs": [],
   "source": []
  },
  {
   "cell_type": "markdown",
   "metadata": {},
   "source": [
    "### Talk about some of the relationships you observed in this part of the investigation. Were there features that strengthened each other in terms of looking at your feature(s) of interest?\n",
    "\n",
    "> Your answer here!\n",
    "\n",
    "### Were there any interesting or surprising interactions between features?\n",
    "\n",
    "> Your answer here!"
   ]
  },
  {
   "cell_type": "markdown",
   "metadata": {},
   "source": [
    "> At the end of your report, make sure that you export the notebook as an\n",
    "html file from the `File > Download as... > HTML` menu. Make sure you keep\n",
    "track of where the exported file goes, so you can put it in the same folder\n",
    "as this notebook for project submission. Also, make sure you remove all of\n",
    "the quote-formatted guide notes like this one before you finish your report!"
   ]
  },
  {
   "cell_type": "code",
   "execution_count": null,
   "metadata": {},
   "outputs": [],
   "source": []
  }
 ],
 "metadata": {
  "kernelspec": {
   "display_name": "Python 3",
   "language": "python",
   "name": "python3"
  },
  "language_info": {
   "codemirror_mode": {
    "name": "ipython",
    "version": 3
   },
   "file_extension": ".py",
   "mimetype": "text/x-python",
   "name": "python",
   "nbconvert_exporter": "python",
   "pygments_lexer": "ipython3",
   "version": "3.7.7"
  }
 },
 "nbformat": 4,
 "nbformat_minor": 2
}
